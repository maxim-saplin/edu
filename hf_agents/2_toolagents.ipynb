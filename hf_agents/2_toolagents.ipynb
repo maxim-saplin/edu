{
 "cells": [
  {
   "cell_type": "code",
   "execution_count": 1,
   "metadata": {},
   "outputs": [
    {
     "name": "stderr",
     "output_type": "stream",
     "text": [
      "/private/var/user/src/edu/hf_agents/.venv/lib/python3.12/site-packages/tqdm/auto.py:21: TqdmWarning: IProgress not found. Please update jupyter and ipywidgets. See https://ipywidgets.readthedocs.io/en/stable/user_install.html\n",
      "  from .autonotebook import tqdm as notebook_tqdm\n"
     ]
    },
    {
     "data": {
      "text/html": [
       "<pre style=\"white-space:pre;overflow-x:auto;line-height:normal;font-family:Menlo,'DejaVu Sans Mono',consolas,'Courier New',monospace\"><span style=\"color: #d4b702; text-decoration-color: #d4b702\">╭──────────────────────────────────────────────────── </span><span style=\"color: #d4b702; text-decoration-color: #d4b702; font-weight: bold\">New run</span><span style=\"color: #d4b702; text-decoration-color: #d4b702\"> ────────────────────────────────────────────────────╮</span>\n",
       "<span style=\"color: #d4b702; text-decoration-color: #d4b702\">│</span>                                                                                                                 <span style=\"color: #d4b702; text-decoration-color: #d4b702\">│</span>\n",
       "<span style=\"color: #d4b702; text-decoration-color: #d4b702\">│</span> <span style=\"font-weight: bold\">Search for the best music recommendations for a party at the Wayne's mansion.</span>                                   <span style=\"color: #d4b702; text-decoration-color: #d4b702\">│</span>\n",
       "<span style=\"color: #d4b702; text-decoration-color: #d4b702\">│</span>                                                                                                                 <span style=\"color: #d4b702; text-decoration-color: #d4b702\">│</span>\n",
       "<span style=\"color: #d4b702; text-decoration-color: #d4b702\">╰─ AzureOpenAIServerModel - gpt-4o-mini-2024-07-18 ───────────────────────────────────────────────────────────────╯</span>\n",
       "</pre>\n"
      ],
      "text/plain": [
       "\u001b[38;2;212;183;2m╭─\u001b[0m\u001b[38;2;212;183;2m───────────────────────────────────────────────────\u001b[0m\u001b[38;2;212;183;2m \u001b[0m\u001b[1;38;2;212;183;2mNew run\u001b[0m\u001b[38;2;212;183;2m \u001b[0m\u001b[38;2;212;183;2m───────────────────────────────────────────────────\u001b[0m\u001b[38;2;212;183;2m─╮\u001b[0m\n",
       "\u001b[38;2;212;183;2m│\u001b[0m                                                                                                                 \u001b[38;2;212;183;2m│\u001b[0m\n",
       "\u001b[38;2;212;183;2m│\u001b[0m \u001b[1mSearch for the best music recommendations for a party at the Wayne's mansion.\u001b[0m                                   \u001b[38;2;212;183;2m│\u001b[0m\n",
       "\u001b[38;2;212;183;2m│\u001b[0m                                                                                                                 \u001b[38;2;212;183;2m│\u001b[0m\n",
       "\u001b[38;2;212;183;2m╰─\u001b[0m\u001b[38;2;212;183;2m AzureOpenAIServerModel - gpt-4o-mini-2024-07-18 \u001b[0m\u001b[38;2;212;183;2m──────────────────────────────────────────────────────────────\u001b[0m\u001b[38;2;212;183;2m─╯\u001b[0m\n"
      ]
     },
     "metadata": {},
     "output_type": "display_data"
    },
    {
     "data": {
      "text/html": [
       "<pre style=\"white-space:pre;overflow-x:auto;line-height:normal;font-family:Menlo,'DejaVu Sans Mono',consolas,'Courier New',monospace\"><span style=\"color: #d4b702; text-decoration-color: #d4b702\">━━━━━━━━━━━━━━━━━━━━━━━━━━━━━━━━━━━━━━━━━━━━━━━━━━━━━ </span><span style=\"font-weight: bold\">Step </span><span style=\"color: #008080; text-decoration-color: #008080; font-weight: bold\">1</span><span style=\"color: #d4b702; text-decoration-color: #d4b702\"> ━━━━━━━━━━━━━━━━━━━━━━━━━━━━━━━━━━━━━━━━━━━━━━━━━━━━━━</span>\n",
       "</pre>\n"
      ],
      "text/plain": [
       "\u001b[38;2;212;183;2m━━━━━━━━━━━━━━━━━━━━━━━━━━━━━━━━━━━━━━━━━━━━━━━━━━━━━ \u001b[0m\u001b[1mStep \u001b[0m\u001b[1;36m1\u001b[0m\u001b[38;2;212;183;2m ━━━━━━━━━━━━━━━━━━━━━━━━━━━━━━━━━━━━━━━━━━━━━━━━━━━━━━\u001b[0m\n"
      ]
     },
     "metadata": {},
     "output_type": "display_data"
    },
    {
     "data": {
      "text/html": [
       "<pre style=\"white-space:pre;overflow-x:auto;line-height:normal;font-family:Menlo,'DejaVu Sans Mono',consolas,'Courier New',monospace\">╭─────────────────────────────────────────────────────────────────────────────────────────────────────────────────╮\n",
       "│ Calling tool: 'web_search' with arguments: {'query': 'best party music recommendations'}                        │\n",
       "╰─────────────────────────────────────────────────────────────────────────────────────────────────────────────────╯\n",
       "</pre>\n"
      ],
      "text/plain": [
       "╭─────────────────────────────────────────────────────────────────────────────────────────────────────────────────╮\n",
       "│ Calling tool: 'web_search' with arguments: {'query': 'best party music recommendations'}                        │\n",
       "╰─────────────────────────────────────────────────────────────────────────────────────────────────────────────────╯\n"
      ]
     },
     "metadata": {},
     "output_type": "display_data"
    },
    {
     "data": {
      "text/html": [
       "<pre style=\"white-space:pre;overflow-x:auto;line-height:normal;font-family:Menlo,'DejaVu Sans Mono',consolas,'Courier New',monospace\">Observations: ## Search Results\n",
       "\n",
       "|The <span style=\"color: #008080; text-decoration-color: #008080; font-weight: bold\">75</span> Best Party Songs That Will Get Everyone Dancing - \n",
       "Gear4music<span style=\"font-weight: bold\">](</span><span style=\"color: #0000ff; text-decoration-color: #0000ff; text-decoration: underline\">https://www.gear4music.com/blog/best-party-songs/)</span>\n",
       "The best party songs <span style=\"color: #008080; text-decoration-color: #008080; font-weight: bold\">1</span>. <span style=\"color: #008000; text-decoration-color: #008000\">\"September\"</span> - Earth, Wind &amp; Fire <span style=\"font-weight: bold\">(</span><span style=\"color: #008080; text-decoration-color: #008080; font-weight: bold\">1978</span><span style=\"font-weight: bold\">)</span> Quite possibly the best party song. An infectious \n",
       "mix of funk and soul, <span style=\"color: #008000; text-decoration-color: #008000\">\"September\"</span> is celebrated for its upbeat melody and <span style=\"color: #008000; text-decoration-color: #008000\">\"ba-dee-ya\"</span> chorus, making it a timeless \n",
       "dance favorite.\n",
       "\n",
       "|Best Songs To Party: DJ's Ultimate Party Songs Playlist - \n",
       "Top40Weekly.com<span style=\"font-weight: bold\">](</span><span style=\"color: #0000ff; text-decoration-color: #0000ff; text-decoration: underline\">https://top40weekly.com/best-songs-to-party/)</span>\n",
       "Best Songs To Party: DJ's Ultimate Party Songs Playlist. If you're looking for the ultimate playlist to get your \n",
       "party started, look no further than this best party songs playlist. Whether you're hosting a birthday bash, a \n",
       "backyard barbecue, or just a night in with friends, the right music can make all the difference. From classic hits \n",
       "to <span style=\"color: #808000; text-decoration-color: #808000\">...</span>\n",
       "\n",
       "|The Top <span style=\"color: #008080; text-decoration-color: #008080; font-weight: bold\">100</span> Best Party Songs of All Time - \n",
       "LiveAbout<span style=\"font-weight: bold\">](</span><span style=\"color: #0000ff; text-decoration-color: #0000ff; text-decoration: underline\">https://www.liveabout.com/top-best-party-songs-of-all-time-3248355)</span>\n",
       "<span style=\"color: #008000; text-decoration-color: #008000\">\"Macarena\"</span> then spent <span style=\"color: #008080; text-decoration-color: #008080; font-weight: bold\">14</span> weeks at No. <span style=\"color: #008080; text-decoration-color: #008080; font-weight: bold\">1</span> on the U.S. pop singles chart. For more than a year this was one of the \n",
       "most popular special event songs in the United States. It still works well as a charming party song encouraging \n",
       "everyone to join in on the simple dance.\n",
       "\n",
       "|<span style=\"color: #008080; text-decoration-color: #008080; font-weight: bold\">50</span>+ Best Songs For Your Next Party in <span style=\"color: #008080; text-decoration-color: #008080; font-weight: bold\">2025</span> - Aleka's \n",
       "Get-Together<span style=\"font-weight: bold\">](</span><span style=\"color: #0000ff; text-decoration-color: #0000ff; text-decoration: underline\">https://alekasgettogether.com/top-songs-for-any-party/)</span>\n",
       "Whether you're planning a How To Host The Best Party At Home or just want to liven up your playlist, we've got you \n",
       "covered with <span style=\"color: #008080; text-decoration-color: #008080; font-weight: bold\">100</span> crowd-pleasing tunes. From timeless classics to modern hits, these songs are guaranteed to keep \n",
       "the energy high and the good times rolling all night long. <span style=\"color: #008080; text-decoration-color: #008080; font-weight: bold\">50</span> Popular Party Songs. Uptown Funk - Mark Ronson ft <span style=\"color: #808000; text-decoration-color: #808000\">...</span>\n",
       "\n",
       "|<span style=\"color: #008080; text-decoration-color: #008080; font-weight: bold\">40</span> Best Party Songs | Songs To Dance To, Ranked By Our Editors - Time \n",
       "Out<span style=\"font-weight: bold\">](</span><span style=\"color: #0000ff; text-decoration-color: #0000ff; text-decoration: underline\">https://www.timeout.com/music/best-party-songs)</span>\n",
       "The <span style=\"color: #008080; text-decoration-color: #008080; font-weight: bold\">40</span> best party songs ever made. It's party time guys - don your dancing shoes and have your speaker at the \n",
       "ready. Thursday <span style=\"color: #008080; text-decoration-color: #008080; font-weight: bold\">13</span> February <span style=\"color: #008080; text-decoration-color: #008080; font-weight: bold\">2025</span>. Share. Copy Link. Facebook Twitter Pinterest <span style=\"color: #808000; text-decoration-color: #808000\">...</span>\n",
       "\n",
       "|The Best Party Songs of All Time <span style=\"font-weight: bold\">(</span>Our Playlists<span style=\"font-weight: bold\">)](</span><span style=\"color: #0000ff; text-decoration-color: #0000ff; text-decoration: underline\">https://www.ispytunes.com/post/best-party-songs)</span>\n",
       "Choosing the best party songs can turn your event into an unforgettable experience. Whether you're looking for \n",
       "timeless classics or the latest hits, a well-crafted playlist sets the mood and keeps the energy high. From disco \n",
       "beats to pop anthems and hip-hop jams, these tracks bring people together on the dance floor. <span style=\"color: #808000; text-decoration-color: #808000\">...</span>\n",
       "\n",
       "|The <span style=\"color: #008080; text-decoration-color: #008080; font-weight: bold\">100</span> Best Party Songs Ever Made <span style=\"font-weight: bold\">(</span>Timeout<span style=\"font-weight: bold\">)</span> - List \n",
       "Challenges<span style=\"font-weight: bold\">](</span><span style=\"color: #0000ff; text-decoration-color: #0000ff; text-decoration: underline\">https://www.listchallenges.com/the-100-best-party-songs-ever-made-timeout)</span>\n",
       "This playlist of classic party tunes is sure to get everyone moving in an explosion of joyful, fevered dancing. \n",
       "There are some pop favourites, a few karaoke classics, and some all-round happy songs. The beats are nonstop and \n",
       "the grooves are infectious. Hit play on these bangers and you're guaranteed to get in the party mood wherever you \n",
       "are.\"\n",
       "\n",
       "|The <span style=\"color: #008080; text-decoration-color: #008080; font-weight: bold\">101</span> Best Party Songs Of All Time - Music Grotto<span style=\"font-weight: bold\">](</span><span style=\"color: #0000ff; text-decoration-color: #0000ff; text-decoration: underline\">https://www.musicgrotto.com/best-party-songs/)</span>\n",
       "A pounding beat and dramatic vocals make this song one of the best party songs to come out of Europe, and the \n",
       "song's music video features a strange and compelling premise of a dead man being reanimated and falling in love \n",
       "with a woman. Tjis Verwest, <span style=\"font-weight: bold\">(</span>a.k.a. Tiësto<span style=\"font-weight: bold\">)</span> composed the song with help from James Bell, Julia Karlsson, and Anton \n",
       "Rundberg.\n",
       "\n",
       "|<span style=\"color: #008080; text-decoration-color: #008080; font-weight: bold\">100</span> Best Party Songs: The Ultimate Party Playlist<span style=\"font-weight: bold\">](</span><span style=\"color: #0000ff; text-decoration-color: #0000ff; text-decoration: underline\">https://audiocaptain.com/best-party-songs/)</span>\n",
       "Best 2000s Party Songs. Stylistically speaking, music that dominated the charts in the 2000s was nondescript.. \n",
       "There was not much new regarding musical directions. Club and hip hop dominated the charts while indie acts and \n",
       "some rock groups still had influence.\n",
       "\n",
       "|<span style=\"color: #008080; text-decoration-color: #008080; font-weight: bold\">35</span> Best Party Songs to Help You Get Down &amp; Boogie - MidderMusic<span style=\"font-weight: bold\">](</span><span style=\"color: #0000ff; text-decoration-color: #0000ff; text-decoration: underline\">https://middermusic.com/best-party-songs/)</span>\n",
       "Best Party Songs - Final Thoughts . It wasn't easy to pick the best party songs, but we tried to cover different \n",
       "styles and genres so there's something for everyone. Nevertheless, all of the songs we mentioned today are the \n",
       "world's top party songs. And they will certainly get you in the party mood! Similar Playlists: Best Sing-Along \n",
       "Songs\n",
       "</pre>\n"
      ],
      "text/plain": [
       "Observations: ## Search Results\n",
       "\n",
       "|The \u001b[1;36m75\u001b[0m Best Party Songs That Will Get Everyone Dancing - \n",
       "Gear4music\u001b[1m]\u001b[0m\u001b[1m(\u001b[0m\u001b[4;94mhttps://www.gear4music.com/blog/best-party-songs/\u001b[0m\u001b[4;94m)\u001b[0m\n",
       "The best party songs \u001b[1;36m1\u001b[0m. \u001b[32m\"September\"\u001b[0m - Earth, Wind & Fire \u001b[1m(\u001b[0m\u001b[1;36m1978\u001b[0m\u001b[1m)\u001b[0m Quite possibly the best party song. An infectious \n",
       "mix of funk and soul, \u001b[32m\"September\"\u001b[0m is celebrated for its upbeat melody and \u001b[32m\"ba-dee-ya\"\u001b[0m chorus, making it a timeless \n",
       "dance favorite.\n",
       "\n",
       "|Best Songs To Party: DJ's Ultimate Party Songs Playlist - \n",
       "Top40Weekly.com\u001b[1m]\u001b[0m\u001b[1m(\u001b[0m\u001b[4;94mhttps://top40weekly.com/best-songs-to-party/\u001b[0m\u001b[4;94m)\u001b[0m\n",
       "Best Songs To Party: DJ's Ultimate Party Songs Playlist. If you're looking for the ultimate playlist to get your \n",
       "party started, look no further than this best party songs playlist. Whether you're hosting a birthday bash, a \n",
       "backyard barbecue, or just a night in with friends, the right music can make all the difference. From classic hits \n",
       "to \u001b[33m...\u001b[0m\n",
       "\n",
       "|The Top \u001b[1;36m100\u001b[0m Best Party Songs of All Time - \n",
       "LiveAbout\u001b[1m]\u001b[0m\u001b[1m(\u001b[0m\u001b[4;94mhttps://www.liveabout.com/top-best-party-songs-of-all-time-3248355\u001b[0m\u001b[4;94m)\u001b[0m\n",
       "\u001b[32m\"Macarena\"\u001b[0m then spent \u001b[1;36m14\u001b[0m weeks at No. \u001b[1;36m1\u001b[0m on the U.S. pop singles chart. For more than a year this was one of the \n",
       "most popular special event songs in the United States. It still works well as a charming party song encouraging \n",
       "everyone to join in on the simple dance.\n",
       "\n",
       "|\u001b[1;36m50\u001b[0m+ Best Songs For Your Next Party in \u001b[1;36m2025\u001b[0m - Aleka's \n",
       "Get-Together\u001b[1m]\u001b[0m\u001b[1m(\u001b[0m\u001b[4;94mhttps://alekasgettogether.com/top-songs-for-any-party/\u001b[0m\u001b[4;94m)\u001b[0m\n",
       "Whether you're planning a How To Host The Best Party At Home or just want to liven up your playlist, we've got you \n",
       "covered with \u001b[1;36m100\u001b[0m crowd-pleasing tunes. From timeless classics to modern hits, these songs are guaranteed to keep \n",
       "the energy high and the good times rolling all night long. \u001b[1;36m50\u001b[0m Popular Party Songs. Uptown Funk - Mark Ronson ft \u001b[33m...\u001b[0m\n",
       "\n",
       "|\u001b[1;36m40\u001b[0m Best Party Songs | Songs To Dance To, Ranked By Our Editors - Time \n",
       "Out\u001b[1m]\u001b[0m\u001b[1m(\u001b[0m\u001b[4;94mhttps://www.timeout.com/music/best-party-songs\u001b[0m\u001b[4;94m)\u001b[0m\n",
       "The \u001b[1;36m40\u001b[0m best party songs ever made. It's party time guys - don your dancing shoes and have your speaker at the \n",
       "ready. Thursday \u001b[1;36m13\u001b[0m February \u001b[1;36m2025\u001b[0m. Share. Copy Link. Facebook Twitter Pinterest \u001b[33m...\u001b[0m\n",
       "\n",
       "|The Best Party Songs of All Time \u001b[1m(\u001b[0mOur Playlists\u001b[1m)\u001b[0m\u001b[1m]\u001b[0m\u001b[1m(\u001b[0m\u001b[4;94mhttps://www.ispytunes.com/post/best-party-songs\u001b[0m\u001b[4;94m)\u001b[0m\n",
       "Choosing the best party songs can turn your event into an unforgettable experience. Whether you're looking for \n",
       "timeless classics or the latest hits, a well-crafted playlist sets the mood and keeps the energy high. From disco \n",
       "beats to pop anthems and hip-hop jams, these tracks bring people together on the dance floor. \u001b[33m...\u001b[0m\n",
       "\n",
       "|The \u001b[1;36m100\u001b[0m Best Party Songs Ever Made \u001b[1m(\u001b[0mTimeout\u001b[1m)\u001b[0m - List \n",
       "Challenges\u001b[1m]\u001b[0m\u001b[1m(\u001b[0m\u001b[4;94mhttps://www.listchallenges.com/the-100-best-party-songs-ever-made-timeout\u001b[0m\u001b[4;94m)\u001b[0m\n",
       "This playlist of classic party tunes is sure to get everyone moving in an explosion of joyful, fevered dancing. \n",
       "There are some pop favourites, a few karaoke classics, and some all-round happy songs. The beats are nonstop and \n",
       "the grooves are infectious. Hit play on these bangers and you're guaranteed to get in the party mood wherever you \n",
       "are.\"\n",
       "\n",
       "|The \u001b[1;36m101\u001b[0m Best Party Songs Of All Time - Music Grotto\u001b[1m]\u001b[0m\u001b[1m(\u001b[0m\u001b[4;94mhttps://www.musicgrotto.com/best-party-songs/\u001b[0m\u001b[4;94m)\u001b[0m\n",
       "A pounding beat and dramatic vocals make this song one of the best party songs to come out of Europe, and the \n",
       "song's music video features a strange and compelling premise of a dead man being reanimated and falling in love \n",
       "with a woman. Tjis Verwest, \u001b[1m(\u001b[0ma.k.a. Tiësto\u001b[1m)\u001b[0m composed the song with help from James Bell, Julia Karlsson, and Anton \n",
       "Rundberg.\n",
       "\n",
       "|\u001b[1;36m100\u001b[0m Best Party Songs: The Ultimate Party Playlist\u001b[1m]\u001b[0m\u001b[1m(\u001b[0m\u001b[4;94mhttps://audiocaptain.com/best-party-songs/\u001b[0m\u001b[4;94m)\u001b[0m\n",
       "Best 2000s Party Songs. Stylistically speaking, music that dominated the charts in the 2000s was nondescript.. \n",
       "There was not much new regarding musical directions. Club and hip hop dominated the charts while indie acts and \n",
       "some rock groups still had influence.\n",
       "\n",
       "|\u001b[1;36m35\u001b[0m Best Party Songs to Help You Get Down & Boogie - MidderMusic\u001b[1m]\u001b[0m\u001b[1m(\u001b[0m\u001b[4;94mhttps://middermusic.com/best-party-songs/\u001b[0m\u001b[4;94m)\u001b[0m\n",
       "Best Party Songs - Final Thoughts . It wasn't easy to pick the best party songs, but we tried to cover different \n",
       "styles and genres so there's something for everyone. Nevertheless, all of the songs we mentioned today are the \n",
       "world's top party songs. And they will certainly get you in the party mood! Similar Playlists: Best Sing-Along \n",
       "Songs\n"
      ]
     },
     "metadata": {},
     "output_type": "display_data"
    },
    {
     "data": {
      "text/html": [
       "<pre style=\"white-space:pre;overflow-x:auto;line-height:normal;font-family:Menlo,'DejaVu Sans Mono',consolas,'Courier New',monospace\"><span style=\"color: #7f7f7f; text-decoration-color: #7f7f7f\">[Step 0: Duration 2.49 seconds| Input tokens: 980 | Output tokens: 15]</span>\n",
       "</pre>\n"
      ],
      "text/plain": [
       "\u001b[2m[Step 0: Duration 2.49 seconds| Input tokens: 980 | Output tokens: 15]\u001b[0m\n"
      ]
     },
     "metadata": {},
     "output_type": "display_data"
    },
    {
     "data": {
      "text/html": [
       "<pre style=\"white-space:pre;overflow-x:auto;line-height:normal;font-family:Menlo,'DejaVu Sans Mono',consolas,'Courier New',monospace\"><span style=\"color: #d4b702; text-decoration-color: #d4b702\">━━━━━━━━━━━━━━━━━━━━━━━━━━━━━━━━━━━━━━━━━━━━━━━━━━━━━ </span><span style=\"font-weight: bold\">Step </span><span style=\"color: #008080; text-decoration-color: #008080; font-weight: bold\">2</span><span style=\"color: #d4b702; text-decoration-color: #d4b702\"> ━━━━━━━━━━━━━━━━━━━━━━━━━━━━━━━━━━━━━━━━━━━━━━━━━━━━━━</span>\n",
       "</pre>\n"
      ],
      "text/plain": [
       "\u001b[38;2;212;183;2m━━━━━━━━━━━━━━━━━━━━━━━━━━━━━━━━━━━━━━━━━━━━━━━━━━━━━ \u001b[0m\u001b[1mStep \u001b[0m\u001b[1;36m2\u001b[0m\u001b[38;2;212;183;2m ━━━━━━━━━━━━━━━━━━━━━━━━━━━━━━━━━━━━━━━━━━━━━━━━━━━━━━\u001b[0m\n"
      ]
     },
     "metadata": {},
     "output_type": "display_data"
    },
    {
     "data": {
      "text/html": [
       "<pre style=\"white-space:pre;overflow-x:auto;line-height:normal;font-family:Menlo,'DejaVu Sans Mono',consolas,'Courier New',monospace\">╭─────────────────────────────────────────────────────────────────────────────────────────────────────────────────╮\n",
       "│ Calling tool: 'final_answer' with arguments: {'answer': 'Here are some of the best music recommendations for a  │\n",
       "│ party at Wayne\\'s mansion:\\n\\n1. \"September\" - Earth, Wind &amp; Fire\\n2. \"Uptown Funk\" - Mark Ronson ft. Bruno     │\n",
       "│ Mars\\n3. \"Macarena\" - Los Del Rio\\n4. \"Get Lucky\" - Daft Punk ft. Pharrell Williams\\n5. \"Shut Up and Dance\" -   │\n",
       "│ WALK THE MOON\\n6. \"Shake It Off\" - Taylor Swift\\n7. \"Party Rock Anthem\" - LMFAO\\n8. \"I Gotta Feeling\" - The     │\n",
       "│ Black Eyed Peas\\n9. \"Don\\'t Stop Believin\\'\" - Journey\\n10. \"Despacito\" - Luis Fonsi ft. Daddy Yankee \\n\\nThese │\n",
       "│ songs encompass a mix of classic and modern hits that are sure to keep guests dancing and entertained.'}        │\n",
       "╰─────────────────────────────────────────────────────────────────────────────────────────────────────────────────╯\n",
       "</pre>\n"
      ],
      "text/plain": [
       "╭─────────────────────────────────────────────────────────────────────────────────────────────────────────────────╮\n",
       "│ Calling tool: 'final_answer' with arguments: {'answer': 'Here are some of the best music recommendations for a  │\n",
       "│ party at Wayne\\'s mansion:\\n\\n1. \"September\" - Earth, Wind & Fire\\n2. \"Uptown Funk\" - Mark Ronson ft. Bruno     │\n",
       "│ Mars\\n3. \"Macarena\" - Los Del Rio\\n4. \"Get Lucky\" - Daft Punk ft. Pharrell Williams\\n5. \"Shut Up and Dance\" -   │\n",
       "│ WALK THE MOON\\n6. \"Shake It Off\" - Taylor Swift\\n7. \"Party Rock Anthem\" - LMFAO\\n8. \"I Gotta Feeling\" - The     │\n",
       "│ Black Eyed Peas\\n9. \"Don\\'t Stop Believin\\'\" - Journey\\n10. \"Despacito\" - Luis Fonsi ft. Daddy Yankee \\n\\nThese │\n",
       "│ songs encompass a mix of classic and modern hits that are sure to keep guests dancing and entertained.'}        │\n",
       "╰─────────────────────────────────────────────────────────────────────────────────────────────────────────────────╯\n"
      ]
     },
     "metadata": {},
     "output_type": "display_data"
    },
    {
     "data": {
      "text/html": [
       "<pre style=\"white-space:pre;overflow-x:auto;line-height:normal;font-family:Menlo,'DejaVu Sans Mono',consolas,'Courier New',monospace\"><span style=\"color: #d4b702; text-decoration-color: #d4b702; font-weight: bold\">Final answer: Here are some of the best music recommendations for a party at Wayne's mansion:</span>\n",
       "\n",
       "<span style=\"color: #d4b702; text-decoration-color: #d4b702; font-weight: bold\">1. \"September\" - Earth, Wind &amp; Fire</span>\n",
       "<span style=\"color: #d4b702; text-decoration-color: #d4b702; font-weight: bold\">2. \"Uptown Funk\" - Mark Ronson ft. Bruno Mars</span>\n",
       "<span style=\"color: #d4b702; text-decoration-color: #d4b702; font-weight: bold\">3. \"Macarena\" - Los Del Rio</span>\n",
       "<span style=\"color: #d4b702; text-decoration-color: #d4b702; font-weight: bold\">4. \"Get Lucky\" - Daft Punk ft. Pharrell Williams</span>\n",
       "<span style=\"color: #d4b702; text-decoration-color: #d4b702; font-weight: bold\">5. \"Shut Up and Dance\" - WALK THE MOON</span>\n",
       "<span style=\"color: #d4b702; text-decoration-color: #d4b702; font-weight: bold\">6. \"Shake It Off\" - Taylor Swift</span>\n",
       "<span style=\"color: #d4b702; text-decoration-color: #d4b702; font-weight: bold\">7. \"Party Rock Anthem\" - LMFAO</span>\n",
       "<span style=\"color: #d4b702; text-decoration-color: #d4b702; font-weight: bold\">8. \"I Gotta Feeling\" - The Black Eyed Peas</span>\n",
       "<span style=\"color: #d4b702; text-decoration-color: #d4b702; font-weight: bold\">9. \"Don't Stop Believin'\" - Journey</span>\n",
       "<span style=\"color: #d4b702; text-decoration-color: #d4b702; font-weight: bold\">10. \"Despacito\" - Luis Fonsi ft. Daddy Yankee </span>\n",
       "\n",
       "<span style=\"color: #d4b702; text-decoration-color: #d4b702; font-weight: bold\">These songs encompass a mix of classic and modern hits that are sure to keep guests dancing and entertained.</span>\n",
       "</pre>\n"
      ],
      "text/plain": [
       "\u001b[1;38;2;212;183;2mFinal answer: Here are some of the best music recommendations for a party at Wayne's mansion:\u001b[0m\n",
       "\n",
       "\u001b[1;38;2;212;183;2m1. \"September\" - Earth, Wind & Fire\u001b[0m\n",
       "\u001b[1;38;2;212;183;2m2. \"Uptown Funk\" - Mark Ronson ft. Bruno Mars\u001b[0m\n",
       "\u001b[1;38;2;212;183;2m3. \"Macarena\" - Los Del Rio\u001b[0m\n",
       "\u001b[1;38;2;212;183;2m4. \"Get Lucky\" - Daft Punk ft. Pharrell Williams\u001b[0m\n",
       "\u001b[1;38;2;212;183;2m5. \"Shut Up and Dance\" - WALK THE MOON\u001b[0m\n",
       "\u001b[1;38;2;212;183;2m6. \"Shake It Off\" - Taylor Swift\u001b[0m\n",
       "\u001b[1;38;2;212;183;2m7. \"Party Rock Anthem\" - LMFAO\u001b[0m\n",
       "\u001b[1;38;2;212;183;2m8. \"I Gotta Feeling\" - The Black Eyed Peas\u001b[0m\n",
       "\u001b[1;38;2;212;183;2m9. \"Don't Stop Believin'\" - Journey\u001b[0m\n",
       "\u001b[1;38;2;212;183;2m10. \"Despacito\" - Luis Fonsi ft. Daddy Yankee \u001b[0m\n",
       "\n",
       "\u001b[1;38;2;212;183;2mThese songs encompass a mix of classic and modern hits that are sure to keep guests dancing and entertained.\u001b[0m\n"
      ]
     },
     "metadata": {},
     "output_type": "display_data"
    },
    {
     "data": {
      "text/html": [
       "<pre style=\"white-space:pre;overflow-x:auto;line-height:normal;font-family:Menlo,'DejaVu Sans Mono',consolas,'Courier New',monospace\"><span style=\"color: #7f7f7f; text-decoration-color: #7f7f7f\">[Step 1: Duration 2.36 seconds| Input tokens: 3,010 | Output tokens: 206]</span>\n",
       "</pre>\n"
      ],
      "text/plain": [
       "\u001b[2m[Step 1: Duration 2.36 seconds| Input tokens: 3,010 | Output tokens: 206]\u001b[0m\n"
      ]
     },
     "metadata": {},
     "output_type": "display_data"
    }
   ],
   "source": [
    "import os\n",
    "import dotenv\n",
    "\n",
    "dotenv.load_dotenv()\n",
    "from smolagents import ToolCallingAgent, DuckDuckGoSearchTool, AzureOpenAIServerModel\n",
    "\n",
    "MODEL = AzureOpenAIServerModel(\n",
    "    model_id=os.environ.get(\"AZURE_OPENAI_DEPLOYMENT\"),\n",
    "    azure_endpoint=os.environ.get(\"AZURE_OPENAI_ENDPOINT\"),\n",
    "    api_key=os.environ.get(\"AZURE_OPENAI_KEY\"),\n",
    "    api_version=os.environ.get(\"AZURE_OPENAI_VERSION\")\n",
    ")\n",
    "\n",
    "agent = ToolCallingAgent(tools=[DuckDuckGoSearchTool()], model=MODEL)\n",
    "\n",
    "result = agent.run(\"Search for the best music recommendations for a party at the Wayne's mansion.\")"
   ]
  },
  {
   "cell_type": "code",
   "execution_count": 2,
   "metadata": {},
   "outputs": [
    {
     "data": {
      "text/plain": [
       "'Here are some of the best music recommendations for a party at Wayne\\'s mansion:\\n\\n1. \"September\" - Earth, Wind & Fire\\n2. \"Uptown Funk\" - Mark Ronson ft. Bruno Mars\\n3. \"Macarena\" - Los Del Rio\\n4. \"Get Lucky\" - Daft Punk ft. Pharrell Williams\\n5. \"Shut Up and Dance\" - WALK THE MOON\\n6. \"Shake It Off\" - Taylor Swift\\n7. \"Party Rock Anthem\" - LMFAO\\n8. \"I Gotta Feeling\" - The Black Eyed Peas\\n9. \"Don\\'t Stop Believin\\'\" - Journey\\n10. \"Despacito\" - Luis Fonsi ft. Daddy Yankee \\n\\nThese songs encompass a mix of classic and modern hits that are sure to keep guests dancing and entertained.'"
      ]
     },
     "execution_count": 2,
     "metadata": {},
     "output_type": "execute_result"
    }
   ],
   "source": [
    "result"
   ]
  }
 ],
 "metadata": {
  "kernelspec": {
   "display_name": ".venv",
   "language": "python",
   "name": "python3"
  },
  "language_info": {
   "codemirror_mode": {
    "name": "ipython",
    "version": 3
   },
   "file_extension": ".py",
   "mimetype": "text/x-python",
   "name": "python",
   "nbconvert_exporter": "python",
   "pygments_lexer": "ipython3",
   "version": "3.12.9"
  }
 },
 "nbformat": 4,
 "nbformat_minor": 2
}
